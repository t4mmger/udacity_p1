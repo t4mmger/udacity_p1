{
 "cells": [
  {
   "cell_type": "code",
   "execution_count": null,
   "metadata": {},
   "outputs": [],
   "source": [
    "\n",
    "import chess \n",
    "import chess.pgn \n",
    "from datetime import datetime\n",
    "import numpy as np\n",
    "import matplotlib.pyplot as plt\n",
    "import pandas as pd\n",
    "import re\n",
    "import statsmodels.api as sma\n",
    "import seaborn as sns\n",
    "from sklearn.linear_model import LinearRegression\n",
    "from sklearn.model_selection import train_test_split\n",
    "from sklearn.metrics import r2_score, mean_squared_error\n",
    "from sklearn import preprocessing\n",
    "from statsmodels.discrete.discrete_model import Probit\n",
    "\n",
    "endgame_threshold = 16\n",
    "elo_threshold = 2250\n",
    "\n",
    ""
   ]
  },
  {
   "cell_type": "markdown",
   "metadata": {},
   "source": [
    "## Business Understanding\n",
    "I analysed a dataset of chess games to answer these three questiosn:\n",
    "\n",
    "Are there differences in play between weak and strong players?\n",
    "\n",
    "Are game statistics different when strong players play against weaker players?\n",
    "\n",
    " #Is the color White still a factor?\n",
    "\n",
    "# Dataset Understanding\n",
    " I use a pgn file with roughly 140k games from players rated between 2000 and 2500 and the years 1980-1989. I chose this period because I wanted to have over the board games with longer time control.\n",
    "\n",
    " The rating is not always Elo and sometimes the import does not work. I handle the first by dropping non elo games and the second by working with try and except.\n",
    "\n",
    " I also delete some duplicates. In the end I have still around 110k games."
   ]
  },
  {
   "cell_type": "code",
   "execution_count": null,
   "metadata": {},
   "outputs": [],
   "source": [
    "#Data Import/Preparation\n",
    "\n",
    "#This takes some time. You don't have to run it, but import the csv file. \n",
    "#exec(open(\"C:\\\\Users\\\\TAMM\\\\Desktop\\\\udacity\\\\projekt1\\\\udacity_p1\\\\data_preparation.py\").read())\n",
    "\n",
    "df = pd.read_csv(filepath_or_buffer = \"C:\\\\Users\\\\TAMM\\\\Desktop\\\\udacity\\\\projekt1\\\\udacity_p1\\\\game_result_list.csv\", sep = ';')\n",
    ""
   ]
  },
  {
   "cell_type": "code",
   "execution_count": null,
   "metadata": {},
   "outputs": [],
   "source": [
    "\n",
    "### Data Understanding with graphics\n",
    "\n",
    "sns.countplot(data = df, x=df['Result'], palette = ['Black', 'Grey'], order=['1-0', '1/2-1/2', '0-1'], hue = df.Strong_Player_White )\n",
    "plt.show()\n",
    "\n",
    "sns.kdeplot(data=df, x=df['PlyCount'], legend = False, hue= df['Pieces'] <= endgame_threshold, fill=True)\n",
    "plt.title('How many moves were played and was an endgame reached?')\n",
    "plt.legend(title = 'Endgame reached' , loc='upper right', labels=['Yes', 'No'])\n",
    "plt.xticks(ticks = [0,20,40,60,80,100,120,140,160, 180, 200])\n",
    "plt.xlim(0,200)\n",
    "plt.show()\n",
    "\n",
    "sns.kdeplot(data=df, x=df['PlyCount'], legend = True, hue= df['Result'], fill=True)\n",
    "plt.title('How many moves were played and how did the game end?')\n",
    "plt.xticks(ticks = [0,20,40,60,80,100,120,140,160, 180, 200])\n",
    "plt.xlim(0,200)\n",
    "plt.show()\n",
    ""
   ]
  },
  {
   "cell_type": "markdown",
   "metadata": {},
   "source": [
    " The stronger player have more often White in my dataset and it is much easier to beat them when one plays White against them.\n",
    "\n",
    " When the game does not reach an endgame most games end around move 25 (PlyCount 50). Whether by a successful tactical skirmish or by draw we cannot see from figure 2.\n",
    "\n",
    " Around PlyCount 50 the number of games ending in an Endgame rises fast and reaching the maximum at around 80. I had to restrict the x-Axis to <= 200 to remove outliers.\n",
    "\n",
    " We see that endgames occure quite frequently and can take some time until the game ends. Thus endgame skills are needed for every ambitious chess player.\n",
    "\n",
    "The third figure shows the first peak of draws around PlyCount 25-30, early draws directly after the opening. Another draw peak is after move 40.\n",
    "\n",
    " For decisive games it is different: the peak is before move 40. After move 40 usually the players get more time. Consequently they have little time before it and so errors happen more frequently. After move 40 the players take a fresh look at the position and convince themselves that a draw is not so bad."
   ]
  },
  {
   "cell_type": "markdown",
   "metadata": {},
   "source": [
    "## Data Understanding with numbers (1)"
   ]
  },
  {
   "cell_type": "markdown",
   "metadata": {},
   "source": [
    " We have 109623 games, and the White Elo is slightly better than Black's.\\\n",
    " We have some games which ended already after 1 moves. This is mostly because the other player did not show up. \\\n",
    " The median of PlyCount is 74,  which is about the mean, too. \\\n",
    " On average the games ended with a little more than 16 pieces on the board, so over our Endgame Threshold.\\\n",
    " The probability of White scoring is 0.505, because White's Elo a little bit higher.\\\n",
    " The actual result was even better with 0.555 (We have to add 0.5 to Result2), indicating that the White pieces have an advantage."
   ]
  },
  {
   "cell_type": "markdown",
   "metadata": {},
   "source": [
    "## Data Understanding with numbers (2)\n",
    "How often does an endgame arise?\n",
    "## Are there differences in play between weak and strong players?\n",
    "Do stronger players play reach endgames more often on average?"
   ]
  },
  {
   "cell_type": "markdown",
   "metadata": {},
   "source": [
    "We do not notice any difference between on Endgames stronger and weaker players."
   ]
  },
  {
   "cell_type": "code",
   "execution_count": null,
   "metadata": {},
   "outputs": [],
   "source": [
    "############## MOVES\n",
    "\n",
    "### Data Understanding with numbers (3)\n",
    "\n",
    "#How many half-moves are played on average?\n",
    "move_cnt = df.PlyCount.mean()\n",
    "print(\"Average Number of half-moves %3.2f\" %  (move_cnt))\n",
    "\n",
    "### Are there differences in play between weak and strong players?\n",
    "\n",
    "#Do stronger players play more moves on average?\n",
    "print('Average number of half-moves for')\n",
    "print('Stronger players: ', df[(df['BlackElo'] > elo_threshold) | (df['WhiteElo'] > elo_threshold)].PlyCount.mean())\n",
    "print('Weaker players: ', df[(df['BlackElo'] <= elo_threshold) | (df['WhiteElo'] <= elo_threshold)].PlyCount.mean())\n",
    ""
   ]
  },
  {
   "cell_type": "markdown",
   "metadata": {},
   "source": [
    "We do neither notice any difference on moves between stronger and weaker players."
   ]
  },
  {
   "cell_type": "markdown",
   "metadata": {},
   "source": [
    "## Are game statistics different when strong players play against weaker players?"
   ]
  },
  {
   "cell_type": "code",
   "execution_count": null,
   "metadata": {},
   "outputs": [],
   "source": [
    "############## STRONG VS WEAK\n",
    "#Create dataset strong players vs weak players\n",
    "strong_weak = df[((df['BlackElo'] <= elo_threshold) & (df['WhiteElo'] > elo_threshold)) | ((df['BlackElo'] > elo_threshold) & (df['WhiteElo'] <= elo_threshold))]\n",
    "\n",
    "#How many moves do the games have?\n",
    "print('Average half-moves in dataset: %5.3f' % (df.PlyCount.mean()))\n",
    "print('Average half-moves when strong players face weak players: %5.3f' % (strong_weak.PlyCount.mean()))\n",
    "\n",
    "#How good is the performance of the stronger players vs. weaker players?\n",
    "\n",
    "result = strong_weak.Strong_Player_Result.mean()\n",
    "prob = strong_weak.Strong_Player_Prob.mean()\n",
    "count = strong_weak.shape[0]\n",
    "\n",
    "print('Number of games with strong vs weak players: ', count )\n",
    "print('Avg. Points for stronger players really: %5.4f' % result)\n",
    "print('Avg. Points for stronger players expected: %5.4f' % prob)\n",
    "\n",
    "##############\n",
    "#How good is the performance of the stronger players if an endgame was reached vs. weaker players?\n",
    "\n",
    "result  = strong_weak[strong_weak['Pieces'] <= endgame_threshold].Strong_Player_Result.mean()\n",
    "prob = strong_weak[strong_weak['Pieces'] <= endgame_threshold].Strong_Player_Prob.mean()\n",
    "count = strong_weak[strong_weak['Pieces'] <= endgame_threshold].shape[0]\n",
    "\n",
    "print('Number of endgames with strong vs weak players: ', count)\n",
    "print('Avg. Points for stronger players in endgame really: %5.4f' % result)\n",
    "print('Avg. Points for stronger players in endgame expected: %5.4f' % prob)\n",
    ""
   ]
  },
  {
   "cell_type": "markdown",
   "metadata": {},
   "source": [
    " The game length does not vary a lot.\n",
    " When stronger players play weaker players they tend to score less points than expected, no matter if the games ends in an Endgame or not.\n",
    " Do you have an idea why this is so?"
   ]
  },
  {
   "cell_type": "markdown",
   "metadata": {},
   "source": [
    "\n",
    "## Is White important for the win probability?\n",
    " We will answer this question with a OLS regression. The y variable will be the result from the stronger player's view.\n",
    "\n",
    " Our X-variables will be the Elo Difference and a White-Dummy.\n",
    "\n",
    "How well was the outcome predicted by Elo on average?\n",
    "Regression part\n",
    "Split into train and test\n",
    "print('Mean predictions and real mean on traing set:  %5.4f vs %5.4f' %  (y_train_preds.mean(), y_train.mean()))\n",
    "From https://www.cluzters.ai/forums/topic/395/find-p-value-significance-in-scikit-learn-linear-regression?c=1597"
   ]
  },
  {
   "cell_type": "markdown",
   "metadata": {},
   "source": [
    "# How can we improve things?\n",
    "  We only did an OLS regression, but the win probability based on Elo difference follows a normal or logit distribution, so a logit or probit regression would be better.\n",
    " What would you suggest to others on how they can improve in chess?"
   ]
  },
  {
   "cell_type": "code",
   "execution_count": null,
   "metadata": {},
   "outputs": [],
   "source": [
    ""
   ]
  }
 ],
 "nbformat": 4,
 "nbformat_minor": 2,
 "metadata": {
  "language_info": {
   "codemirror_mode": {
    "name": "ipython",
    "version": 3
   },
   "file_extension": ".py",
   "mimetype": "text/x-python",
   "name": "python",
   "nbconvert_exporter": "python",
   "pygments_lexer": "ipython3",
   "version": 3
  },
  "orig_nbformat": 4
 }
}